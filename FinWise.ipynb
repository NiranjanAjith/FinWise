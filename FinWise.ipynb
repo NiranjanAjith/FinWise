{
  "nbformat": 4,
  "nbformat_minor": 0,
  "metadata": {
    "colab": {
      "provenance": [],
      "authorship_tag": "ABX9TyMicexIb6us2YWiGYComE0H",
      "include_colab_link": true
    },
    "kernelspec": {
      "name": "python3",
      "display_name": "Python 3"
    },
    "language_info": {
      "name": "python"
    }
  },
  "cells": [
    {
      "cell_type": "markdown",
      "metadata": {
        "id": "view-in-github",
        "colab_type": "text"
      },
      "source": [
        "<a href=\"https://colab.research.google.com/github/aioont/KH012-FinWise/blob/main/FinWise.ipynb\" target=\"_parent\"><img src=\"https://colab.research.google.com/assets/colab-badge.svg\" alt=\"Open In Colab\"/></a>"
      ]
    },
    {
      "cell_type": "code",
      "execution_count": null,
      "metadata": {
        "id": "9JD0pmsrdNz0"
      },
      "outputs": [],
      "source": [
        "!pip install tensorflow\n",
        "!pip install keras"
      ]
    },
    {
      "cell_type": "code",
      "source": [
        "from keras.models import Sequential\n",
        "from keras.layers import Conv2D, MaxPool2D, Dense, Flatten\n",
        "import numpy as np\n",
        "import pandas as pd\n",
        "import seaborn as sns\n",
        "import matplotlib.pyplot as plt"
      ],
      "metadata": {
        "id": "eqh58nsCde5D"
      },
      "execution_count": 2,
      "outputs": []
    },
    {
      "cell_type": "markdown",
      "source": [
        "Data Preprocessing"
      ],
      "metadata": {
        "id": "wnCQYPalFJt3"
      }
    },
    {
      "cell_type": "code",
      "source": [
        "df = pd.read_csv(\"/content/nsestockhistoricalratios.csv\")\n",
        "\n",
        "#split dataframe on companies\n",
        "stock = {}\n",
        "for index, row in df.iterrows():\n",
        "    key = row['Stock']\n",
        "    if key not in stock:\n",
        "        stock[key] = pd.DataFrame(columns=df.columns)\n",
        "        continue\n",
        "    stock[key] = pd.concat([stock[key], row.to_frame().T], ignore_index=True)"
      ],
      "metadata": {
        "id": "oMNLJzaam0hu"
      },
      "execution_count": null,
      "outputs": []
    },
    {
      "cell_type": "code",
      "source": [
        "#reshaping dataframe\n",
        "for key in stock:\n",
        "  stock[key].drop(['Stock'], axis=1, inplace=True)\n",
        "  company = pd.pivot_table(stock[key], index=\"Year\")\n",
        "\n",
        "  #min-max scaling\n",
        "  for col in company.columns:\n",
        "    normalized_values = (company[col] - np.min(company[col])) / (np.max(company[col]) - np.min(company[col]))\n",
        "    company.loc[:, col] = normalized_values\n",
        "\n",
        "  #Delete rows and fill columns with 0 for missing data\n",
        "  company = company.dropna()\n",
        "  #company = company.dropna(axis=1)\n",
        "\n",
        "  stock[key] = company\n",
        "  file_name = f\"forheatmap_{key}.csv\"\n",
        "  stock[key].to_csv(file_name, index=False)"
      ],
      "metadata": {
        "colab": {
          "base_uri": "https://localhost:8080/"
        },
        "id": "vUMf7-wVckMz",
        "outputId": "7f5a6115-c3d1-4023-f915-cdf6af184e7d"
      },
      "execution_count": null,
      "outputs": [
        {
          "metadata": {
            "tags": null
          },
          "name": "stderr",
          "output_type": "stream",
          "text": [
            "<ipython-input-45-4fd67415897f>:9: SettingWithCopyWarning: \n",
            "A value is trying to be set on a copy of a slice from a DataFrame.\n",
            "Try using .loc[row_indexer,col_indexer] = value instead\n",
            "\n",
            "See the caveats in the documentation: https://pandas.pydata.org/pandas-docs/stable/user_guide/indexing.html#returning-a-view-versus-a-copy\n",
            "  company.loc[:, col] = normalized_values\n"
          ]
        }
      ]
    },
    {
      "cell_type": "code",
      "source": [
        "for key in stock:\n",
        "  file_name = f\"/content/forheatmap_{key}.csv\"\n",
        "  na = [-99, 99, 'NULL', '']\n",
        "  stock[key] = pd.read_csv(file_name, na_values=na)\n",
        "\n",
        "  print(stock[key].isna().sum().sum())"
      ],
      "metadata": {
        "id": "wTYp1Ok1Hs2O"
      },
      "execution_count": null,
      "outputs": []
    },
    {
      "cell_type": "code",
      "source": [
        "#Creating Heatmaps for each company\n",
        "for key in list(stock.keys()):\n",
        "  stock[key].drop(['Stock'], axis=1, inplace=True)\n",
        "  company = pd.pivot_table(stock[key], index=\"Year\")\n",
        "\n",
        "  #min-max scaling\n",
        "  for col in company.columns:\n",
        "    company[col] = (company[col] - np.min(company[col])) / (np.max(company[col]) - np.min(company[col]))\n",
        "\n",
        "  sns.heatmap(company, cmap=\"YlGnBu\", fmt=\"0.0f\")\n",
        "  # filename = f\"heatmap_{key}.png\"\n",
        "  # plt.savefig(filename)"
      ],
      "metadata": {
        "id": "htK8ledl9771"
      },
      "execution_count": null,
      "outputs": []
    },
    {
      "cell_type": "markdown",
      "source": [
        "Model Architecture"
      ],
      "metadata": {
        "id": "kCLSsn02vAN3"
      }
    },
    {
      "cell_type": "code",
      "source": [
        "ClassifyStock = Sequential([\n",
        "    Conv2D(64, (58,5), strides=(5,5), activation='relu', input_size=(640,480,3)),\n",
        "    MaxPool2D((5,5)),\n",
        "\n",
        "    Conv2D(64, (58,5), strides=(5,5), activation='relu', input_size=(640,480,3)),\n",
        "    MaxPool2D((5,5)),\n",
        "\n",
        "    Flatten(),\n",
        "    Dense(128, activation='relu'),\n",
        "    Dense(10, activation='softmax')\n",
        "])"
      ],
      "metadata": {
        "id": "bdNGEOOGvDfI"
      },
      "execution_count": null,
      "outputs": []
    },
    {
      "cell_type": "markdown",
      "source": [
        "Model Compile"
      ],
      "metadata": {
        "id": "SfLONFrh8g7E"
      }
    },
    {
      "cell_type": "code",
      "source": [
        "ClassifyStock.compile(loss='', optimizer='', metrics='')"
      ],
      "metadata": {
        "id": "3nxPcuda8gY5"
      },
      "execution_count": null,
      "outputs": []
    }
  ]
}